{
 "cells": [
  {
   "cell_type": "code",
   "execution_count": 7,
   "metadata": {},
   "outputs": [
    {
     "data": {
      "text/html": [
       "<div>\n",
       "<style scoped>\n",
       "    .dataframe tbody tr th:only-of-type {\n",
       "        vertical-align: middle;\n",
       "    }\n",
       "\n",
       "    .dataframe tbody tr th {\n",
       "        vertical-align: top;\n",
       "    }\n",
       "\n",
       "    .dataframe thead th {\n",
       "        text-align: right;\n",
       "    }\n",
       "</style>\n",
       "<table border=\"1\" class=\"dataframe\">\n",
       "  <thead>\n",
       "    <tr style=\"text-align: right;\">\n",
       "      <th></th>\n",
       "      <th>Name</th>\n",
       "      <th>Age</th>\n",
       "      <th>Height</th>\n",
       "    </tr>\n",
       "  </thead>\n",
       "  <tbody>\n",
       "    <tr>\n",
       "      <th>0</th>\n",
       "      <td>Ted</td>\n",
       "      <td>24</td>\n",
       "      <td>177</td>\n",
       "    </tr>\n",
       "    <tr>\n",
       "      <th>1</th>\n",
       "      <td>Judy</td>\n",
       "      <td>27</td>\n",
       "      <td>183</td>\n",
       "    </tr>\n",
       "  </tbody>\n",
       "</table>\n",
       "</div>"
      ],
      "text/plain": [
       "   Name  Age  Height\n",
       "0   Ted   24     177\n",
       "1  Judy   27     183"
      ]
     },
     "execution_count": 7,
     "metadata": {},
     "output_type": "execute_result"
    }
   ],
   "source": [
    "import pandas as pd\n",
    "\n",
    "columns = [\"Name\", \"Age\", \"Height\"]\n",
    "data = [\n",
    "\t\t[\"Ted\", 24, 177],\n",
    "\t\t[\"Judy\", 27, 183],\n",
    "]\n",
    "\n",
    "df = pd.DataFrame(data=data, columns=columns)\n",
    "df"
   ]
  },
  {
   "cell_type": "code",
   "execution_count": 8,
   "metadata": {},
   "outputs": [],
   "source": [
    "df.to_json('./test_pandas_default.json')"
   ]
  },
  {
   "cell_type": "code",
   "execution_count": 9,
   "metadata": {},
   "outputs": [
    {
     "data": {
      "text/plain": [
       "{'Name': {'0': 'Ted', '1': 'Judy'},\n",
       " 'Age': {'0': 24, '1': 27},\n",
       " 'Height': {'0': 177, '1': 183}}"
      ]
     },
     "execution_count": 9,
     "metadata": {},
     "output_type": "execute_result"
    }
   ],
   "source": [
    "{\"Name\":{\"0\":\"Ted\",\"1\":\"Judy\"},\"Age\":{\"0\":24,\"1\":27},\"Height\":{\"0\":177,\"1\":183}}"
   ]
  },
  {
   "cell_type": "code",
   "execution_count": 10,
   "metadata": {},
   "outputs": [],
   "source": [
    "df.to_json('./test_pandas_columns.json', orient=\"columns\")"
   ]
  },
  {
   "cell_type": "code",
   "execution_count": 11,
   "metadata": {},
   "outputs": [
    {
     "data": {
      "text/plain": [
       "{'Name': {'0': 'Ted', '1': 'Judy'},\n",
       " 'Age': {'0': 24, '1': 27},\n",
       " 'Height': {'0': 177, '1': 183}}"
      ]
     },
     "execution_count": 11,
     "metadata": {},
     "output_type": "execute_result"
    }
   ],
   "source": [
    "{\"Name\":{\"0\":\"Ted\",\"1\":\"Judy\"},\"Age\":{\"0\":24,\"1\":27},\"Height\":{\"0\":177,\"1\":183}}"
   ]
  },
  {
   "cell_type": "code",
   "execution_count": 12,
   "metadata": {},
   "outputs": [],
   "source": [
    "df.to_json('./test_pandas_records.json', orient=\"records\")"
   ]
  },
  {
   "cell_type": "code",
   "execution_count": 13,
   "metadata": {},
   "outputs": [
    {
     "data": {
      "text/plain": [
       "[{'Name': 'Ted', 'Age': 24, 'Height': 177},\n",
       " {'Name': 'Judy', 'Age': 27, 'Height': 183}]"
      ]
     },
     "execution_count": 13,
     "metadata": {},
     "output_type": "execute_result"
    }
   ],
   "source": [
    "[{\"Name\":\"Ted\",\"Age\":24,\"Height\":177},{\"Name\":\"Judy\",\"Age\":27,\"Height\":183}]"
   ]
  },
  {
   "cell_type": "code",
   "execution_count": 14,
   "metadata": {},
   "outputs": [],
   "source": [
    "df.to_json('./test_pandas_index.json', orient=\"index\")"
   ]
  },
  {
   "cell_type": "code",
   "execution_count": 15,
   "metadata": {},
   "outputs": [
    {
     "data": {
      "text/plain": [
       "{'0': {'Name': 'Ted', 'Age': 24, 'Height': 177},\n",
       " '1': {'Name': 'Judy', 'Age': 27, 'Height': 183}}"
      ]
     },
     "execution_count": 15,
     "metadata": {},
     "output_type": "execute_result"
    }
   ],
   "source": [
    "{\"0\":{\"Name\":\"Ted\",\"Age\":24,\"Height\":177},\"1\":{\"Name\":\"Judy\",\"Age\":27,\"Height\":183}}"
   ]
  },
  {
   "cell_type": "code",
   "execution_count": 16,
   "metadata": {},
   "outputs": [],
   "source": [
    "df.to_json('./test_pandas_split.json', orient=\"split\")"
   ]
  },
  {
   "cell_type": "code",
   "execution_count": 17,
   "metadata": {},
   "outputs": [
    {
     "data": {
      "text/plain": [
       "{'columns': ['Name', 'Age', 'Height'],\n",
       " 'index': [0, 1],\n",
       " 'data': [['Ted', 24, 177], ['Judy', 27, 183]]}"
      ]
     },
     "execution_count": 17,
     "metadata": {},
     "output_type": "execute_result"
    }
   ],
   "source": [
    "{\"columns\":[\"Name\",\"Age\",\"Height\"],\"index\":[0,1],\"data\":[[\"Ted\",24,177],[\"Judy\",27,183]]}"
   ]
  },
  {
   "cell_type": "code",
   "execution_count": 18,
   "metadata": {},
   "outputs": [],
   "source": [
    "df.to_json('./test_pandas_table.json', orient=\"table\")"
   ]
  },
  {
   "cell_type": "code",
   "execution_count": 19,
   "metadata": {},
   "outputs": [
    {
     "data": {
      "text/plain": [
       "{'schema': {'fields': [{'name': 'index', 'type': 'integer'},\n",
       "   {'name': 'Name', 'type': 'string'},\n",
       "   {'name': 'Age', 'type': 'integer'},\n",
       "   {'name': 'Height', 'type': 'integer'}],\n",
       "  'primaryKey': ['index'],\n",
       "  'pandas_version': '1.4.0'},\n",
       " 'data': [{'index': 0, 'Name': 'Ted', 'Age': 24, 'Height': 177},\n",
       "  {'index': 1, 'Name': 'Judy', 'Age': 27, 'Height': 183}]}"
      ]
     },
     "execution_count": 19,
     "metadata": {},
     "output_type": "execute_result"
    }
   ],
   "source": [
    "{\"schema\":{\"fields\":[{\"name\":\"index\",\"type\":\"integer\"},{\"name\":\"Name\",\"type\":\"string\"},{\"name\":\"Age\",\"type\":\"integer\"},{\"name\":\"Height\",\"type\":\"integer\"}],\"primaryKey\":[\"index\"],\"pandas_version\":\"1.4.0\"},\"data\":[{\"index\":0,\"Name\":\"Ted\",\"Age\":24,\"Height\":177},{\"index\":1,\"Name\":\"Judy\",\"Age\":27,\"Height\":183}]}"
   ]
  }
 ],
 "metadata": {
  "kernelspec": {
   "display_name": "Python 3",
   "language": "python",
   "name": "python3"
  },
  "language_info": {
   "codemirror_mode": {
    "name": "ipython",
    "version": 3
   },
   "file_extension": ".py",
   "mimetype": "text/x-python",
   "name": "python",
   "nbconvert_exporter": "python",
   "pygments_lexer": "ipython3",
   "version": "3.12.7"
  }
 },
 "nbformat": 4,
 "nbformat_minor": 2
}
